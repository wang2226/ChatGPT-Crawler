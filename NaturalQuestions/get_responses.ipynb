{
 "cells": [
  {
   "cell_type": "code",
   "execution_count": 141,
   "id": "4fae3dd4",
   "metadata": {},
   "outputs": [],
   "source": [
    "from pyChatGPT import ChatGPT\n",
    "import json\n",
    "from tqdm import tqdm\n",
    "import pandas as pd\n",
    "from collections import defaultdict\n",
    "import time\n",
    "from datetime import datetime\n",
    "import numpy as np\n",
    "from math import ceil\n",
    "import pickle\n",
    "import argparse\n",
    "import os, re, json\n",
    "from dotenv import load_dotenv"
   ]
  },
  {
   "cell_type": "code",
   "execution_count": 142,
   "id": "96944a0e",
   "metadata": {},
   "outputs": [
    {
     "data": {
      "text/plain": [
       "'/Users/UmarJahangir/Projects/ChatGPT/NaturalQuestions'"
      ]
     },
     "execution_count": 142,
     "metadata": {},
     "output_type": "execute_result"
    }
   ],
   "source": [
    "os.getcwd()"
   ]
  },
  {
   "cell_type": "code",
   "execution_count": 143,
   "id": "3b8b970c",
   "metadata": {
    "scrolled": false
   },
   "outputs": [
    {
     "data": {
      "text/plain": [
       "['NQ-open.train.jsonl', 'responses.json']"
      ]
     },
     "execution_count": 143,
     "metadata": {},
     "output_type": "execute_result"
    }
   ],
   "source": [
    "os.listdir(path)"
   ]
  },
  {
   "cell_type": "code",
   "execution_count": 159,
   "id": "b23ce3aa",
   "metadata": {
    "scrolled": false
   },
   "outputs": [
    {
     "name": "stdout",
     "output_type": "stream",
     "text": [
      "{'answer': 'Chris Long last played football in the 2019 NFL season for the Philadelphia Eagles.\\n\\n', 'question': 'who did chris long play football for last year'}\n",
      "{'answer': 'None', 'question': 'when did harry potter and the deathly hallows come out'}\n",
      "{'answer': 'None', 'question': 'how many episode of my hero academia season 2'}\n",
      "{'answer': 'None', 'question': 'during the rebuttal section of a formal debate which team speaks first'}\n",
      "{'answer': 'None', 'question': 'when was the last amendment made to the us constitution'}\n",
      "{'answer': 'None', 'question': 'starch based food to be made into plastic'}\n",
      "\n",
      "Starting from index =  36 {'answer': 'None', 'question': 'when did harry potter and the deathly hallows come out'}\n"
     ]
    }
   ],
   "source": [
    "responses_path = f'{path}/responses.json'\n",
    "start_index = None\n",
    "responses = []\n",
    "with open(responses_path,'r',encoding='utf-8') as f:\n",
    "        responses = json.loads(f.read())\n",
    "for i in range(len(responses)):\n",
    "    if responses[i][\"answer\"] == \"None\":\n",
    "        start_index = i\n",
    "        break\n",
    "for index, record in enumerate(responses[start_index-1:start_index+5]):\n",
    "    print(record)\n",
    "    \n",
    "print(\"\\nStarting from index = \", start_index, responses[start_index])"
   ]
  },
  {
   "cell_type": "code",
   "execution_count": 161,
   "id": "64a6d0c8",
   "metadata": {},
   "outputs": [
    {
     "name": "stdout",
     "output_type": "stream",
     "text": [
      "starting\n",
      "1 seconds have passed\n",
      "2 seconds have passed\n",
      "3 seconds have passed\n",
      "4 seconds have passed\n",
      "Timeout !\n"
     ]
    }
   ],
   "source": [
    "import time\n",
    "from wrapt_timeout_decorator import *\n",
    "\n",
    "@timeout(5)\n",
    "def mytest(message):\n",
    "    # this example does NOT work on windows, please check the section\n",
    "    # \"use with Windows\" in the README.rst\n",
    "    print(message)\n",
    "    for i in range(1,10):\n",
    "        time.sleep(1)\n",
    "        print('{} seconds have passed'.format(i))\n",
    "\n",
    "if __name__ == '__main__':\n",
    "    try:\n",
    "        mytest('starting')\n",
    "    except:\n",
    "        print(\"Timeout !\")"
   ]
  },
  {
   "cell_type": "code",
   "execution_count": 155,
   "id": "033dd852",
   "metadata": {},
   "outputs": [],
   "source": [
    "load_dotenv()\n",
    "token = os.getenv(\"GPT_TOKEN\")\n",
    "api = ChatGPT(token)"
   ]
  },
  {
   "cell_type": "code",
   "execution_count": 156,
   "id": "491a41af",
   "metadata": {
    "scrolled": false
   },
   "outputs": [
    {
     "name": "stdout",
     "output_type": "stream",
     "text": [
      "0 {'answer': 'None', 'question': 'ice sheets and tundra are typical of which koppen climate category'}\n",
      "====================\n",
      "0 Ice sheets and tundra are typical of the Koppen climate category \"EF\" or \"Ice Cap Climate\".\n",
      "\n",
      "\n",
      "====================\n",
      "28\n",
      "1 {'answer': 'None', 'question': 'what is the size of the angles of an equilateral triangle'}\n",
      "====================\n",
      "1 The size of the angles of an equilateral triangle is 60 degrees each.\n",
      "\n",
      "\n",
      "====================\n",
      "29\n",
      "2 {'answer': 'None', 'question': 'when does beaty and the beast take place'}\n",
      "====================\n",
      "2 The time period in which the story of \"Beauty and the Beast\" takes place is not specified in the original fairy tale and can vary in different adaptations.\n",
      "\n",
      "\n",
      "====================\n",
      "30\n",
      "3 {'answer': 'None', 'question': 'who sings done for me with charlie puth'}\n",
      "====================\n",
      "3 The song \"Done For Me\" by Charlie Puth features Kehlani.\n",
      "\n",
      "\n",
      "====================\n",
      "31\n",
      "4 {'answer': 'None', 'question': 'what counties are in the 6th congressional district in ga'}\n",
      "====================\n",
      "4 The 6th Congressional District of Georgia includes the following counties: Fulton, DeKalb, and part of Cobb County.\n",
      "\n",
      "\n",
      "====================\n",
      "32\n",
      "5 {'answer': 'None', 'question': 'who was heading indian army during bangladesh libration war 1971'}\n",
      "====================\n",
      "5 During the Bangladesh Liberation War in 1971, General Sam Manekshaw was the Chief of the Indian Army.\n",
      "\n",
      "\n",
      "====================\n",
      "33\n",
      "6 {'answer': 'None', 'question': 'who wrote the music for somewhere in time'}\n",
      "====================\n",
      "6 The music for the film \"Somewhere in Time\" was composed by John Barry.\n",
      "\n",
      "\n",
      "====================\n",
      "34\n",
      "7 {'answer': 'None', 'question': 'who sings the marriage of figaro in shawshank redemption'}\n",
      "====================\n",
      "7 The song \"The Marriage of Figaro\" featured in the film \"The Shawshank Redemption\" is performed by Mozart.\n",
      "\n",
      "\n",
      "====================\n",
      "35\n",
      "8 {'answer': 'None', 'question': 'who did chris long play football for last year'}\n",
      "====================\n",
      "8 Chris Long last played football in the 2019 NFL season for the Philadelphia Eagles.\n",
      "\n",
      "\n",
      "====================\n",
      "36\n",
      "9 {'answer': 'None', 'question': 'when did harry potter and the deathly hallows come out'}\n"
     ]
    },
    {
     "ename": "KeyboardInterrupt",
     "evalue": "",
     "output_type": "error",
     "traceback": [
      "\u001b[0;31m---------------------------------------------------------------------------\u001b[0m",
      "\u001b[0;31mKeyboardInterrupt\u001b[0m                         Traceback (most recent call last)",
      "Cell \u001b[0;32mIn[156], line 5\u001b[0m\n\u001b[1;32m      3\u001b[0m \u001b[38;5;28mprint\u001b[39m(index, record)\n\u001b[1;32m      4\u001b[0m query \u001b[38;5;241m=\u001b[39m record[\u001b[38;5;124m\"\u001b[39m\u001b[38;5;124mquestion\u001b[39m\u001b[38;5;124m\"\u001b[39m]\n\u001b[0;32m----> 5\u001b[0m response \u001b[38;5;241m=\u001b[39m \u001b[43mapi\u001b[49m\u001b[38;5;241;43m.\u001b[39;49m\u001b[43msend_message\u001b[49m\u001b[43m(\u001b[49m\u001b[43mquery\u001b[49m\u001b[43m)\u001b[49m\n\u001b[1;32m      6\u001b[0m answer \u001b[38;5;241m=\u001b[39m response[\u001b[38;5;124m\"\u001b[39m\u001b[38;5;124mmessage\u001b[39m\u001b[38;5;124m\"\u001b[39m]\n\u001b[1;32m      7\u001b[0m \u001b[38;5;28mprint\u001b[39m(\u001b[38;5;124m\"\u001b[39m\u001b[38;5;124m=\u001b[39m\u001b[38;5;124m\"\u001b[39m \u001b[38;5;241m*\u001b[39m \u001b[38;5;241m20\u001b[39m)\n",
      "File \u001b[0;32m/opt/miniconda3/envs/gpt/lib/python3.9/site-packages/pyChatGPT/pyChatGPT.py:431\u001b[0m, in \u001b[0;36mChatGPT.send_message\u001b[0;34m(self, message, stream)\u001b[0m\n\u001b[1;32m    428\u001b[0m     \u001b[38;5;28;01mreturn\u001b[39;00m \u001b[38;5;28mprint\u001b[39m()\n\u001b[1;32m    430\u001b[0m \u001b[38;5;28mself\u001b[39m\u001b[38;5;241m.\u001b[39mlogger\u001b[38;5;241m.\u001b[39mdebug(\u001b[38;5;124m'\u001b[39m\u001b[38;5;124mWaiting for completion...\u001b[39m\u001b[38;5;124m'\u001b[39m)\n\u001b[0;32m--> 431\u001b[0m \u001b[43mWebDriverWait\u001b[49m\u001b[43m(\u001b[49m\u001b[38;5;28;43mself\u001b[39;49m\u001b[38;5;241;43m.\u001b[39;49m\u001b[43mdriver\u001b[49m\u001b[43m,\u001b[49m\u001b[43m \u001b[49m\u001b[38;5;241;43m120\u001b[39;49m\u001b[43m)\u001b[49m\u001b[38;5;241;43m.\u001b[39;49m\u001b[43muntil_not\u001b[49m\u001b[43m(\u001b[49m\n\u001b[1;32m    432\u001b[0m \u001b[43m    \u001b[49m\u001b[43mEC\u001b[49m\u001b[38;5;241;43m.\u001b[39;49m\u001b[43mpresence_of_element_located\u001b[49m\u001b[43m(\u001b[49m\u001b[43mchatgpt_streaming\u001b[49m\u001b[43m)\u001b[49m\n\u001b[1;32m    433\u001b[0m \u001b[43m\u001b[49m\u001b[43m)\u001b[49m\n\u001b[1;32m    435\u001b[0m \u001b[38;5;28mself\u001b[39m\u001b[38;5;241m.\u001b[39mlogger\u001b[38;5;241m.\u001b[39mdebug(\u001b[38;5;124m'\u001b[39m\u001b[38;5;124mGetting response...\u001b[39m\u001b[38;5;124m'\u001b[39m)\n\u001b[1;32m    436\u001b[0m responses \u001b[38;5;241m=\u001b[39m \u001b[38;5;28mself\u001b[39m\u001b[38;5;241m.\u001b[39mdriver\u001b[38;5;241m.\u001b[39mfind_elements(\u001b[38;5;241m*\u001b[39mchatgpt_big_response)\n",
      "File \u001b[0;32m/opt/miniconda3/envs/gpt/lib/python3.9/site-packages/selenium/webdriver/support/wait.py:110\u001b[0m, in \u001b[0;36mWebDriverWait.until_not\u001b[0;34m(self, method, message)\u001b[0m\n\u001b[1;32m    108\u001b[0m \u001b[38;5;28;01mwhile\u001b[39;00m \u001b[38;5;28;01mTrue\u001b[39;00m:\n\u001b[1;32m    109\u001b[0m     \u001b[38;5;28;01mtry\u001b[39;00m:\n\u001b[0;32m--> 110\u001b[0m         value \u001b[38;5;241m=\u001b[39m \u001b[43mmethod\u001b[49m\u001b[43m(\u001b[49m\u001b[38;5;28;43mself\u001b[39;49m\u001b[38;5;241;43m.\u001b[39;49m\u001b[43m_driver\u001b[49m\u001b[43m)\u001b[49m\n\u001b[1;32m    111\u001b[0m         \u001b[38;5;28;01mif\u001b[39;00m \u001b[38;5;129;01mnot\u001b[39;00m value:\n\u001b[1;32m    112\u001b[0m             \u001b[38;5;28;01mreturn\u001b[39;00m value\n",
      "File \u001b[0;32m/opt/miniconda3/envs/gpt/lib/python3.9/site-packages/selenium/webdriver/support/expected_conditions.py:64\u001b[0m, in \u001b[0;36mpresence_of_element_located.<locals>._predicate\u001b[0;34m(driver)\u001b[0m\n\u001b[1;32m     63\u001b[0m \u001b[38;5;28;01mdef\u001b[39;00m \u001b[38;5;21m_predicate\u001b[39m(driver):\n\u001b[0;32m---> 64\u001b[0m     \u001b[38;5;28;01mreturn\u001b[39;00m \u001b[43mdriver\u001b[49m\u001b[38;5;241;43m.\u001b[39;49m\u001b[43mfind_element\u001b[49m\u001b[43m(\u001b[49m\u001b[38;5;241;43m*\u001b[39;49m\u001b[43mlocator\u001b[49m\u001b[43m)\u001b[49m\n",
      "File \u001b[0;32m/opt/miniconda3/envs/gpt/lib/python3.9/site-packages/selenium/webdriver/remote/webdriver.py:861\u001b[0m, in \u001b[0;36mWebDriver.find_element\u001b[0;34m(self, by, value)\u001b[0m\n\u001b[1;32m    858\u001b[0m     by \u001b[38;5;241m=\u001b[39m By\u001b[38;5;241m.\u001b[39mCSS_SELECTOR\n\u001b[1;32m    859\u001b[0m     value \u001b[38;5;241m=\u001b[39m \u001b[38;5;124m'\u001b[39m\u001b[38;5;124m[name=\u001b[39m\u001b[38;5;124m\"\u001b[39m\u001b[38;5;132;01m%s\u001b[39;00m\u001b[38;5;124m\"\u001b[39m\u001b[38;5;124m]\u001b[39m\u001b[38;5;124m'\u001b[39m \u001b[38;5;241m%\u001b[39m value\n\u001b[0;32m--> 861\u001b[0m \u001b[38;5;28;01mreturn\u001b[39;00m \u001b[38;5;28;43mself\u001b[39;49m\u001b[38;5;241;43m.\u001b[39;49m\u001b[43mexecute\u001b[49m\u001b[43m(\u001b[49m\u001b[43mCommand\u001b[49m\u001b[38;5;241;43m.\u001b[39;49m\u001b[43mFIND_ELEMENT\u001b[49m\u001b[43m,\u001b[49m\u001b[43m \u001b[49m\u001b[43m{\u001b[49m\u001b[38;5;124;43m\"\u001b[39;49m\u001b[38;5;124;43musing\u001b[39;49m\u001b[38;5;124;43m\"\u001b[39;49m\u001b[43m:\u001b[49m\u001b[43m \u001b[49m\u001b[43mby\u001b[49m\u001b[43m,\u001b[49m\u001b[43m \u001b[49m\u001b[38;5;124;43m\"\u001b[39;49m\u001b[38;5;124;43mvalue\u001b[39;49m\u001b[38;5;124;43m\"\u001b[39;49m\u001b[43m:\u001b[49m\u001b[43m \u001b[49m\u001b[43mvalue\u001b[49m\u001b[43m}\u001b[49m\u001b[43m)\u001b[49m[\u001b[38;5;124m\"\u001b[39m\u001b[38;5;124mvalue\u001b[39m\u001b[38;5;124m\"\u001b[39m]\n",
      "File \u001b[0;32m/opt/miniconda3/envs/gpt/lib/python3.9/site-packages/selenium/webdriver/remote/webdriver.py:442\u001b[0m, in \u001b[0;36mWebDriver.execute\u001b[0;34m(self, driver_command, params)\u001b[0m\n\u001b[1;32m    439\u001b[0m     \u001b[38;5;28;01melif\u001b[39;00m \u001b[38;5;124m\"\u001b[39m\u001b[38;5;124msessionId\u001b[39m\u001b[38;5;124m\"\u001b[39m \u001b[38;5;129;01mnot\u001b[39;00m \u001b[38;5;129;01min\u001b[39;00m params:\n\u001b[1;32m    440\u001b[0m         params[\u001b[38;5;124m\"\u001b[39m\u001b[38;5;124msessionId\u001b[39m\u001b[38;5;124m\"\u001b[39m] \u001b[38;5;241m=\u001b[39m \u001b[38;5;28mself\u001b[39m\u001b[38;5;241m.\u001b[39msession_id\n\u001b[0;32m--> 442\u001b[0m response \u001b[38;5;241m=\u001b[39m \u001b[38;5;28;43mself\u001b[39;49m\u001b[38;5;241;43m.\u001b[39;49m\u001b[43mcommand_executor\u001b[49m\u001b[38;5;241;43m.\u001b[39;49m\u001b[43mexecute\u001b[49m\u001b[43m(\u001b[49m\u001b[43mdriver_command\u001b[49m\u001b[43m,\u001b[49m\u001b[43m \u001b[49m\u001b[43mparams\u001b[49m\u001b[43m)\u001b[49m\n\u001b[1;32m    443\u001b[0m \u001b[38;5;28;01mif\u001b[39;00m response:\n\u001b[1;32m    444\u001b[0m     \u001b[38;5;28mself\u001b[39m\u001b[38;5;241m.\u001b[39merror_handler\u001b[38;5;241m.\u001b[39mcheck_response(response)\n",
      "File \u001b[0;32m/opt/miniconda3/envs/gpt/lib/python3.9/site-packages/selenium/webdriver/remote/remote_connection.py:294\u001b[0m, in \u001b[0;36mRemoteConnection.execute\u001b[0;34m(self, command, params)\u001b[0m\n\u001b[1;32m    292\u001b[0m data \u001b[38;5;241m=\u001b[39m utils\u001b[38;5;241m.\u001b[39mdump_json(params)\n\u001b[1;32m    293\u001b[0m url \u001b[38;5;241m=\u001b[39m \u001b[38;5;124mf\u001b[39m\u001b[38;5;124m\"\u001b[39m\u001b[38;5;132;01m{\u001b[39;00m\u001b[38;5;28mself\u001b[39m\u001b[38;5;241m.\u001b[39m_url\u001b[38;5;132;01m}\u001b[39;00m\u001b[38;5;132;01m{\u001b[39;00mpath\u001b[38;5;132;01m}\u001b[39;00m\u001b[38;5;124m\"\u001b[39m\n\u001b[0;32m--> 294\u001b[0m \u001b[38;5;28;01mreturn\u001b[39;00m \u001b[38;5;28;43mself\u001b[39;49m\u001b[38;5;241;43m.\u001b[39;49m\u001b[43m_request\u001b[49m\u001b[43m(\u001b[49m\u001b[43mcommand_info\u001b[49m\u001b[43m[\u001b[49m\u001b[38;5;241;43m0\u001b[39;49m\u001b[43m]\u001b[49m\u001b[43m,\u001b[49m\u001b[43m \u001b[49m\u001b[43murl\u001b[49m\u001b[43m,\u001b[49m\u001b[43m \u001b[49m\u001b[43mbody\u001b[49m\u001b[38;5;241;43m=\u001b[39;49m\u001b[43mdata\u001b[49m\u001b[43m)\u001b[49m\n",
      "File \u001b[0;32m/opt/miniconda3/envs/gpt/lib/python3.9/site-packages/selenium/webdriver/remote/remote_connection.py:316\u001b[0m, in \u001b[0;36mRemoteConnection._request\u001b[0;34m(self, method, url, body)\u001b[0m\n\u001b[1;32m    313\u001b[0m     body \u001b[38;5;241m=\u001b[39m \u001b[38;5;28;01mNone\u001b[39;00m\n\u001b[1;32m    315\u001b[0m \u001b[38;5;28;01mif\u001b[39;00m \u001b[38;5;28mself\u001b[39m\u001b[38;5;241m.\u001b[39mkeep_alive:\n\u001b[0;32m--> 316\u001b[0m     response \u001b[38;5;241m=\u001b[39m \u001b[38;5;28;43mself\u001b[39;49m\u001b[38;5;241;43m.\u001b[39;49m\u001b[43m_conn\u001b[49m\u001b[38;5;241;43m.\u001b[39;49m\u001b[43mrequest\u001b[49m\u001b[43m(\u001b[49m\u001b[43mmethod\u001b[49m\u001b[43m,\u001b[49m\u001b[43m \u001b[49m\u001b[43murl\u001b[49m\u001b[43m,\u001b[49m\u001b[43m \u001b[49m\u001b[43mbody\u001b[49m\u001b[38;5;241;43m=\u001b[39;49m\u001b[43mbody\u001b[49m\u001b[43m,\u001b[49m\u001b[43m \u001b[49m\u001b[43mheaders\u001b[49m\u001b[38;5;241;43m=\u001b[39;49m\u001b[43mheaders\u001b[49m\u001b[43m)\u001b[49m\n\u001b[1;32m    317\u001b[0m     statuscode \u001b[38;5;241m=\u001b[39m response\u001b[38;5;241m.\u001b[39mstatus\n\u001b[1;32m    318\u001b[0m \u001b[38;5;28;01melse\u001b[39;00m:\n",
      "File \u001b[0;32m/opt/miniconda3/envs/gpt/lib/python3.9/site-packages/urllib3/request.py:78\u001b[0m, in \u001b[0;36mRequestMethods.request\u001b[0;34m(self, method, url, fields, headers, **urlopen_kw)\u001b[0m\n\u001b[1;32m     74\u001b[0m     \u001b[38;5;28;01mreturn\u001b[39;00m \u001b[38;5;28mself\u001b[39m\u001b[38;5;241m.\u001b[39mrequest_encode_url(\n\u001b[1;32m     75\u001b[0m         method, url, fields\u001b[38;5;241m=\u001b[39mfields, headers\u001b[38;5;241m=\u001b[39mheaders, \u001b[38;5;241m*\u001b[39m\u001b[38;5;241m*\u001b[39murlopen_kw\n\u001b[1;32m     76\u001b[0m     )\n\u001b[1;32m     77\u001b[0m \u001b[38;5;28;01melse\u001b[39;00m:\n\u001b[0;32m---> 78\u001b[0m     \u001b[38;5;28;01mreturn\u001b[39;00m \u001b[38;5;28;43mself\u001b[39;49m\u001b[38;5;241;43m.\u001b[39;49m\u001b[43mrequest_encode_body\u001b[49m\u001b[43m(\u001b[49m\n\u001b[1;32m     79\u001b[0m \u001b[43m        \u001b[49m\u001b[43mmethod\u001b[49m\u001b[43m,\u001b[49m\u001b[43m \u001b[49m\u001b[43murl\u001b[49m\u001b[43m,\u001b[49m\u001b[43m \u001b[49m\u001b[43mfields\u001b[49m\u001b[38;5;241;43m=\u001b[39;49m\u001b[43mfields\u001b[49m\u001b[43m,\u001b[49m\u001b[43m \u001b[49m\u001b[43mheaders\u001b[49m\u001b[38;5;241;43m=\u001b[39;49m\u001b[43mheaders\u001b[49m\u001b[43m,\u001b[49m\u001b[43m \u001b[49m\u001b[38;5;241;43m*\u001b[39;49m\u001b[38;5;241;43m*\u001b[39;49m\u001b[43murlopen_kw\u001b[49m\n\u001b[1;32m     80\u001b[0m \u001b[43m    \u001b[49m\u001b[43m)\u001b[49m\n",
      "File \u001b[0;32m/opt/miniconda3/envs/gpt/lib/python3.9/site-packages/urllib3/request.py:170\u001b[0m, in \u001b[0;36mRequestMethods.request_encode_body\u001b[0;34m(self, method, url, fields, headers, encode_multipart, multipart_boundary, **urlopen_kw)\u001b[0m\n\u001b[1;32m    167\u001b[0m extra_kw[\u001b[38;5;124m\"\u001b[39m\u001b[38;5;124mheaders\u001b[39m\u001b[38;5;124m\"\u001b[39m]\u001b[38;5;241m.\u001b[39mupdate(headers)\n\u001b[1;32m    168\u001b[0m extra_kw\u001b[38;5;241m.\u001b[39mupdate(urlopen_kw)\n\u001b[0;32m--> 170\u001b[0m \u001b[38;5;28;01mreturn\u001b[39;00m \u001b[38;5;28;43mself\u001b[39;49m\u001b[38;5;241;43m.\u001b[39;49m\u001b[43murlopen\u001b[49m\u001b[43m(\u001b[49m\u001b[43mmethod\u001b[49m\u001b[43m,\u001b[49m\u001b[43m \u001b[49m\u001b[43murl\u001b[49m\u001b[43m,\u001b[49m\u001b[43m \u001b[49m\u001b[38;5;241;43m*\u001b[39;49m\u001b[38;5;241;43m*\u001b[39;49m\u001b[43mextra_kw\u001b[49m\u001b[43m)\u001b[49m\n",
      "File \u001b[0;32m/opt/miniconda3/envs/gpt/lib/python3.9/site-packages/urllib3/poolmanager.py:376\u001b[0m, in \u001b[0;36mPoolManager.urlopen\u001b[0;34m(self, method, url, redirect, **kw)\u001b[0m\n\u001b[1;32m    374\u001b[0m     response \u001b[38;5;241m=\u001b[39m conn\u001b[38;5;241m.\u001b[39murlopen(method, url, \u001b[38;5;241m*\u001b[39m\u001b[38;5;241m*\u001b[39mkw)\n\u001b[1;32m    375\u001b[0m \u001b[38;5;28;01melse\u001b[39;00m:\n\u001b[0;32m--> 376\u001b[0m     response \u001b[38;5;241m=\u001b[39m \u001b[43mconn\u001b[49m\u001b[38;5;241;43m.\u001b[39;49m\u001b[43murlopen\u001b[49m\u001b[43m(\u001b[49m\u001b[43mmethod\u001b[49m\u001b[43m,\u001b[49m\u001b[43m \u001b[49m\u001b[43mu\u001b[49m\u001b[38;5;241;43m.\u001b[39;49m\u001b[43mrequest_uri\u001b[49m\u001b[43m,\u001b[49m\u001b[43m \u001b[49m\u001b[38;5;241;43m*\u001b[39;49m\u001b[38;5;241;43m*\u001b[39;49m\u001b[43mkw\u001b[49m\u001b[43m)\u001b[49m\n\u001b[1;32m    378\u001b[0m redirect_location \u001b[38;5;241m=\u001b[39m redirect \u001b[38;5;129;01mand\u001b[39;00m response\u001b[38;5;241m.\u001b[39mget_redirect_location()\n\u001b[1;32m    379\u001b[0m \u001b[38;5;28;01mif\u001b[39;00m \u001b[38;5;129;01mnot\u001b[39;00m redirect_location:\n",
      "File \u001b[0;32m/opt/miniconda3/envs/gpt/lib/python3.9/site-packages/urllib3/connectionpool.py:703\u001b[0m, in \u001b[0;36mHTTPConnectionPool.urlopen\u001b[0;34m(self, method, url, body, headers, retries, redirect, assert_same_host, timeout, pool_timeout, release_conn, chunked, body_pos, **response_kw)\u001b[0m\n\u001b[1;32m    700\u001b[0m     \u001b[38;5;28mself\u001b[39m\u001b[38;5;241m.\u001b[39m_prepare_proxy(conn)\n\u001b[1;32m    702\u001b[0m \u001b[38;5;66;03m# Make the request on the httplib connection object.\u001b[39;00m\n\u001b[0;32m--> 703\u001b[0m httplib_response \u001b[38;5;241m=\u001b[39m \u001b[38;5;28;43mself\u001b[39;49m\u001b[38;5;241;43m.\u001b[39;49m\u001b[43m_make_request\u001b[49m\u001b[43m(\u001b[49m\n\u001b[1;32m    704\u001b[0m \u001b[43m    \u001b[49m\u001b[43mconn\u001b[49m\u001b[43m,\u001b[49m\n\u001b[1;32m    705\u001b[0m \u001b[43m    \u001b[49m\u001b[43mmethod\u001b[49m\u001b[43m,\u001b[49m\n\u001b[1;32m    706\u001b[0m \u001b[43m    \u001b[49m\u001b[43murl\u001b[49m\u001b[43m,\u001b[49m\n\u001b[1;32m    707\u001b[0m \u001b[43m    \u001b[49m\u001b[43mtimeout\u001b[49m\u001b[38;5;241;43m=\u001b[39;49m\u001b[43mtimeout_obj\u001b[49m\u001b[43m,\u001b[49m\n\u001b[1;32m    708\u001b[0m \u001b[43m    \u001b[49m\u001b[43mbody\u001b[49m\u001b[38;5;241;43m=\u001b[39;49m\u001b[43mbody\u001b[49m\u001b[43m,\u001b[49m\n\u001b[1;32m    709\u001b[0m \u001b[43m    \u001b[49m\u001b[43mheaders\u001b[49m\u001b[38;5;241;43m=\u001b[39;49m\u001b[43mheaders\u001b[49m\u001b[43m,\u001b[49m\n\u001b[1;32m    710\u001b[0m \u001b[43m    \u001b[49m\u001b[43mchunked\u001b[49m\u001b[38;5;241;43m=\u001b[39;49m\u001b[43mchunked\u001b[49m\u001b[43m,\u001b[49m\n\u001b[1;32m    711\u001b[0m \u001b[43m\u001b[49m\u001b[43m)\u001b[49m\n\u001b[1;32m    713\u001b[0m \u001b[38;5;66;03m# If we're going to release the connection in ``finally:``, then\u001b[39;00m\n\u001b[1;32m    714\u001b[0m \u001b[38;5;66;03m# the response doesn't need to know about the connection. Otherwise\u001b[39;00m\n\u001b[1;32m    715\u001b[0m \u001b[38;5;66;03m# it will also try to release it and we'll have a double-release\u001b[39;00m\n\u001b[1;32m    716\u001b[0m \u001b[38;5;66;03m# mess.\u001b[39;00m\n\u001b[1;32m    717\u001b[0m response_conn \u001b[38;5;241m=\u001b[39m conn \u001b[38;5;28;01mif\u001b[39;00m \u001b[38;5;129;01mnot\u001b[39;00m release_conn \u001b[38;5;28;01melse\u001b[39;00m \u001b[38;5;28;01mNone\u001b[39;00m\n",
      "File \u001b[0;32m/opt/miniconda3/envs/gpt/lib/python3.9/site-packages/urllib3/connectionpool.py:449\u001b[0m, in \u001b[0;36mHTTPConnectionPool._make_request\u001b[0;34m(self, conn, method, url, timeout, chunked, **httplib_request_kw)\u001b[0m\n\u001b[1;32m    444\u001b[0m             httplib_response \u001b[38;5;241m=\u001b[39m conn\u001b[38;5;241m.\u001b[39mgetresponse()\n\u001b[1;32m    445\u001b[0m         \u001b[38;5;28;01mexcept\u001b[39;00m \u001b[38;5;167;01mBaseException\u001b[39;00m \u001b[38;5;28;01mas\u001b[39;00m e:\n\u001b[1;32m    446\u001b[0m             \u001b[38;5;66;03m# Remove the TypeError from the exception chain in\u001b[39;00m\n\u001b[1;32m    447\u001b[0m             \u001b[38;5;66;03m# Python 3 (including for exceptions like SystemExit).\u001b[39;00m\n\u001b[1;32m    448\u001b[0m             \u001b[38;5;66;03m# Otherwise it looks like a bug in the code.\u001b[39;00m\n\u001b[0;32m--> 449\u001b[0m             \u001b[43msix\u001b[49m\u001b[38;5;241;43m.\u001b[39;49m\u001b[43mraise_from\u001b[49m\u001b[43m(\u001b[49m\u001b[43me\u001b[49m\u001b[43m,\u001b[49m\u001b[43m \u001b[49m\u001b[38;5;28;43;01mNone\u001b[39;49;00m\u001b[43m)\u001b[49m\n\u001b[1;32m    450\u001b[0m \u001b[38;5;28;01mexcept\u001b[39;00m (SocketTimeout, BaseSSLError, SocketError) \u001b[38;5;28;01mas\u001b[39;00m e:\n\u001b[1;32m    451\u001b[0m     \u001b[38;5;28mself\u001b[39m\u001b[38;5;241m.\u001b[39m_raise_timeout(err\u001b[38;5;241m=\u001b[39me, url\u001b[38;5;241m=\u001b[39murl, timeout_value\u001b[38;5;241m=\u001b[39mread_timeout)\n",
      "File \u001b[0;32m<string>:3\u001b[0m, in \u001b[0;36mraise_from\u001b[0;34m(value, from_value)\u001b[0m\n",
      "File \u001b[0;32m/opt/miniconda3/envs/gpt/lib/python3.9/site-packages/urllib3/connectionpool.py:444\u001b[0m, in \u001b[0;36mHTTPConnectionPool._make_request\u001b[0;34m(self, conn, method, url, timeout, chunked, **httplib_request_kw)\u001b[0m\n\u001b[1;32m    441\u001b[0m \u001b[38;5;28;01mexcept\u001b[39;00m \u001b[38;5;167;01mTypeError\u001b[39;00m:\n\u001b[1;32m    442\u001b[0m     \u001b[38;5;66;03m# Python 3\u001b[39;00m\n\u001b[1;32m    443\u001b[0m     \u001b[38;5;28;01mtry\u001b[39;00m:\n\u001b[0;32m--> 444\u001b[0m         httplib_response \u001b[38;5;241m=\u001b[39m \u001b[43mconn\u001b[49m\u001b[38;5;241;43m.\u001b[39;49m\u001b[43mgetresponse\u001b[49m\u001b[43m(\u001b[49m\u001b[43m)\u001b[49m\n\u001b[1;32m    445\u001b[0m     \u001b[38;5;28;01mexcept\u001b[39;00m \u001b[38;5;167;01mBaseException\u001b[39;00m \u001b[38;5;28;01mas\u001b[39;00m e:\n\u001b[1;32m    446\u001b[0m         \u001b[38;5;66;03m# Remove the TypeError from the exception chain in\u001b[39;00m\n\u001b[1;32m    447\u001b[0m         \u001b[38;5;66;03m# Python 3 (including for exceptions like SystemExit).\u001b[39;00m\n\u001b[1;32m    448\u001b[0m         \u001b[38;5;66;03m# Otherwise it looks like a bug in the code.\u001b[39;00m\n\u001b[1;32m    449\u001b[0m         six\u001b[38;5;241m.\u001b[39mraise_from(e, \u001b[38;5;28;01mNone\u001b[39;00m)\n",
      "File \u001b[0;32m/opt/miniconda3/envs/gpt/lib/python3.9/http/client.py:1377\u001b[0m, in \u001b[0;36mHTTPConnection.getresponse\u001b[0;34m(self)\u001b[0m\n\u001b[1;32m   1375\u001b[0m \u001b[38;5;28;01mtry\u001b[39;00m:\n\u001b[1;32m   1376\u001b[0m     \u001b[38;5;28;01mtry\u001b[39;00m:\n\u001b[0;32m-> 1377\u001b[0m         \u001b[43mresponse\u001b[49m\u001b[38;5;241;43m.\u001b[39;49m\u001b[43mbegin\u001b[49m\u001b[43m(\u001b[49m\u001b[43m)\u001b[49m\n\u001b[1;32m   1378\u001b[0m     \u001b[38;5;28;01mexcept\u001b[39;00m \u001b[38;5;167;01mConnectionError\u001b[39;00m:\n\u001b[1;32m   1379\u001b[0m         \u001b[38;5;28mself\u001b[39m\u001b[38;5;241m.\u001b[39mclose()\n",
      "File \u001b[0;32m/opt/miniconda3/envs/gpt/lib/python3.9/http/client.py:320\u001b[0m, in \u001b[0;36mHTTPResponse.begin\u001b[0;34m(self)\u001b[0m\n\u001b[1;32m    318\u001b[0m \u001b[38;5;66;03m# read until we get a non-100 response\u001b[39;00m\n\u001b[1;32m    319\u001b[0m \u001b[38;5;28;01mwhile\u001b[39;00m \u001b[38;5;28;01mTrue\u001b[39;00m:\n\u001b[0;32m--> 320\u001b[0m     version, status, reason \u001b[38;5;241m=\u001b[39m \u001b[38;5;28;43mself\u001b[39;49m\u001b[38;5;241;43m.\u001b[39;49m\u001b[43m_read_status\u001b[49m\u001b[43m(\u001b[49m\u001b[43m)\u001b[49m\n\u001b[1;32m    321\u001b[0m     \u001b[38;5;28;01mif\u001b[39;00m status \u001b[38;5;241m!=\u001b[39m CONTINUE:\n\u001b[1;32m    322\u001b[0m         \u001b[38;5;28;01mbreak\u001b[39;00m\n",
      "File \u001b[0;32m/opt/miniconda3/envs/gpt/lib/python3.9/http/client.py:281\u001b[0m, in \u001b[0;36mHTTPResponse._read_status\u001b[0;34m(self)\u001b[0m\n\u001b[1;32m    280\u001b[0m \u001b[38;5;28;01mdef\u001b[39;00m \u001b[38;5;21m_read_status\u001b[39m(\u001b[38;5;28mself\u001b[39m):\n\u001b[0;32m--> 281\u001b[0m     line \u001b[38;5;241m=\u001b[39m \u001b[38;5;28mstr\u001b[39m(\u001b[38;5;28;43mself\u001b[39;49m\u001b[38;5;241;43m.\u001b[39;49m\u001b[43mfp\u001b[49m\u001b[38;5;241;43m.\u001b[39;49m\u001b[43mreadline\u001b[49m\u001b[43m(\u001b[49m\u001b[43m_MAXLINE\u001b[49m\u001b[43m \u001b[49m\u001b[38;5;241;43m+\u001b[39;49m\u001b[43m \u001b[49m\u001b[38;5;241;43m1\u001b[39;49m\u001b[43m)\u001b[49m, \u001b[38;5;124m\"\u001b[39m\u001b[38;5;124miso-8859-1\u001b[39m\u001b[38;5;124m\"\u001b[39m)\n\u001b[1;32m    282\u001b[0m     \u001b[38;5;28;01mif\u001b[39;00m \u001b[38;5;28mlen\u001b[39m(line) \u001b[38;5;241m>\u001b[39m _MAXLINE:\n\u001b[1;32m    283\u001b[0m         \u001b[38;5;28;01mraise\u001b[39;00m LineTooLong(\u001b[38;5;124m\"\u001b[39m\u001b[38;5;124mstatus line\u001b[39m\u001b[38;5;124m\"\u001b[39m)\n",
      "File \u001b[0;32m/opt/miniconda3/envs/gpt/lib/python3.9/socket.py:704\u001b[0m, in \u001b[0;36mSocketIO.readinto\u001b[0;34m(self, b)\u001b[0m\n\u001b[1;32m    702\u001b[0m \u001b[38;5;28;01mwhile\u001b[39;00m \u001b[38;5;28;01mTrue\u001b[39;00m:\n\u001b[1;32m    703\u001b[0m     \u001b[38;5;28;01mtry\u001b[39;00m:\n\u001b[0;32m--> 704\u001b[0m         \u001b[38;5;28;01mreturn\u001b[39;00m \u001b[38;5;28;43mself\u001b[39;49m\u001b[38;5;241;43m.\u001b[39;49m\u001b[43m_sock\u001b[49m\u001b[38;5;241;43m.\u001b[39;49m\u001b[43mrecv_into\u001b[49m\u001b[43m(\u001b[49m\u001b[43mb\u001b[49m\u001b[43m)\u001b[49m\n\u001b[1;32m    705\u001b[0m     \u001b[38;5;28;01mexcept\u001b[39;00m timeout:\n\u001b[1;32m    706\u001b[0m         \u001b[38;5;28mself\u001b[39m\u001b[38;5;241m.\u001b[39m_timeout_occurred \u001b[38;5;241m=\u001b[39m \u001b[38;5;28;01mTrue\u001b[39;00m\n",
      "\u001b[0;31mKeyboardInterrupt\u001b[0m: "
     ]
    }
   ],
   "source": [
    "for index, record in enumerate(responses[start_index:]):\n",
    "    try:\n",
    "        print(index, record)\n",
    "        query = record[\"question\"]\n",
    "        response = api.send_message(query)\n",
    "        answer = response[\"message\"]\n",
    "        print(\"=\" * 20)\n",
    "        print(index, answer)\n",
    "        print(\"=\" * 20)\n",
    "\n",
    "        if answer != \"\":\n",
    "            record[\"answer\"] = answer\n",
    "            with open(responses_path, 'w') as f:\n",
    "                json.dump(responses, f)\n",
    "            time.sleep(0.5)\n",
    "            start_index += 1\n",
    "            print(start_index)\n",
    "            \n",
    "        else:\n",
    "            print(f\"Stopped at: {index}\")\n",
    "\n",
    "    except ValueError as ve:\n",
    "        print(ve)\n",
    "        if str(ve) == \"Too many requests in 1 hour. Try again later.\":\n",
    "            print(str(ve))\n",
    "        if (\n",
    "            str(ve)\n",
    "            == \"Only one message at a time. Please allow any other responses to complete before sending another message, or wait one minute.\"\n",
    "        ):\n",
    "            print(str(ve))\n",
    "            time.sleep(60)\n",
    "with open(responses_path, 'w') as f:\n",
    "    json.dump(responses, f)"
   ]
  },
  {
   "cell_type": "code",
   "execution_count": 103,
   "id": "ec8db9c2",
   "metadata": {},
   "outputs": [],
   "source": [
    "with open(responses_path, 'w') as f:\n",
    "                json.dump(responses, f)"
   ]
  },
  {
   "cell_type": "code",
   "execution_count": 18,
   "id": "8d50b134",
   "metadata": {},
   "outputs": [
    {
     "name": "stdout",
     "output_type": "stream",
     "text": [
      "====================\n",
      "{'message': 'Hot Tub Time Machine was filmed primarily in and around the city of Detroit, Michigan, USA. Some additional filming also took place in Park City, Utah.\\n\\n', 'conversation_id': 'e4d6bc5e-155e-40ee-9910-0f17ef1609ef'}\n",
      "====================\n",
      "====================\n",
      "{'message': \"In international waters, ships are governed by a set of rules called the International Regulations for Preventing Collisions at Sea (COLREGS). These regulations outline the rules of the road for ships and specify which vessels have the right of way in different situations.\\n\\nIn general, larger vessels must give way to smaller vessels, and vessels that are overtaking must give way to those being overtaken. Vessels that are engaged in fishing or other activities that restrict their ability to maneuver must give way to all other vessels. Additionally, vessels that are under power must give way to vessels that are under sail.\\n\\nIt's important to note that these rules are not absolute, and the actions of a vessel's crew can also play a role in determining which vessel has the right of way in a given situation.\\n\\n\", 'conversation_id': 'e4d6bc5e-155e-40ee-9910-0f17ef1609ef'}\n",
      "====================\n"
     ]
    },
    {
     "ename": "TimeoutException",
     "evalue": "Message: timeout: Timed out receiving message from renderer: 300.000\n  (Session info: chrome=109.0.5414.87)\nStacktrace:\n0   6b2bc0cb62e5a283_chromedriver       0x0000000102b34fa8 6b2bc0cb62e5a283_chromedriver + 4886440\n1   6b2bc0cb62e5a283_chromedriver       0x0000000102ab2643 6b2bc0cb62e5a283_chromedriver + 4351555\n2   6b2bc0cb62e5a283_chromedriver       0x0000000102700b27 6b2bc0cb62e5a283_chromedriver + 477991\n3   6b2bc0cb62e5a283_chromedriver       0x00000001026e924d 6b2bc0cb62e5a283_chromedriver + 381517\n4   6b2bc0cb62e5a283_chromedriver       0x00000001026e8de0 6b2bc0cb62e5a283_chromedriver + 380384\n5   6b2bc0cb62e5a283_chromedriver       0x00000001026e7532 6b2bc0cb62e5a283_chromedriver + 374066\n6   6b2bc0cb62e5a283_chromedriver       0x00000001026e7a58 6b2bc0cb62e5a283_chromedriver + 375384\n7   6b2bc0cb62e5a283_chromedriver       0x00000001026f684c 6b2bc0cb62e5a283_chromedriver + 436300\n8   6b2bc0cb62e5a283_chromedriver       0x00000001026f7b52 6b2bc0cb62e5a283_chromedriver + 441170\n9   6b2bc0cb62e5a283_chromedriver       0x000000010270a009 6b2bc0cb62e5a283_chromedriver + 516105\n10  6b2bc0cb62e5a283_chromedriver       0x000000010270f8db 6b2bc0cb62e5a283_chromedriver + 538843\n11  6b2bc0cb62e5a283_chromedriver       0x00000001026e7f64 6b2bc0cb62e5a283_chromedriver + 376676\n12  6b2bc0cb62e5a283_chromedriver       0x0000000102709e30 6b2bc0cb62e5a283_chromedriver + 515632\n13  6b2bc0cb62e5a283_chromedriver       0x000000010278653b 6b2bc0cb62e5a283_chromedriver + 1025339\n14  6b2bc0cb62e5a283_chromedriver       0x000000010276b3a3 6b2bc0cb62e5a283_chromedriver + 914339\n15  6b2bc0cb62e5a283_chromedriver       0x000000010273557f 6b2bc0cb62e5a283_chromedriver + 693631\n16  6b2bc0cb62e5a283_chromedriver       0x0000000102736b1e 6b2bc0cb62e5a283_chromedriver + 699166\n17  6b2bc0cb62e5a283_chromedriver       0x0000000102b01b9e 6b2bc0cb62e5a283_chromedriver + 4676510\n18  6b2bc0cb62e5a283_chromedriver       0x0000000102b0691e 6b2bc0cb62e5a283_chromedriver + 4696350\n19  6b2bc0cb62e5a283_chromedriver       0x0000000102b0e19f 6b2bc0cb62e5a283_chromedriver + 4727199\n20  6b2bc0cb62e5a283_chromedriver       0x0000000102b0781a 6b2bc0cb62e5a283_chromedriver + 4700186\n21  6b2bc0cb62e5a283_chromedriver       0x0000000102adaa62 6b2bc0cb62e5a283_chromedriver + 4516450\n22  6b2bc0cb62e5a283_chromedriver       0x0000000102b268c8 6b2bc0cb62e5a283_chromedriver + 4827336\n23  6b2bc0cb62e5a283_chromedriver       0x0000000102b26a45 6b2bc0cb62e5a283_chromedriver + 4827717\n24  6b2bc0cb62e5a283_chromedriver       0x0000000102b3c7ef 6b2bc0cb62e5a283_chromedriver + 4917231\n25  libsystem_pthread.dylib             0x00007ff81c3dd259 _pthread_start + 125\n26  libsystem_pthread.dylib             0x00007ff81c3d8c7b thread_start + 15\n",
     "output_type": "error",
     "traceback": [
      "\u001b[0;31m---------------------------------------------------------------------------\u001b[0m",
      "\u001b[0;31mTimeoutException\u001b[0m                          Traceback (most recent call last)",
      "Cell \u001b[0;32mIn[18], line 4\u001b[0m\n\u001b[1;32m      2\u001b[0m \u001b[38;5;28;01mfor\u001b[39;00m index, query \u001b[38;5;129;01min\u001b[39;00m \u001b[38;5;28menumerate\u001b[39m(data_col[:\u001b[38;5;241m5\u001b[39m]):\n\u001b[1;32m      3\u001b[0m     \u001b[38;5;28;01mtry\u001b[39;00m:\n\u001b[0;32m----> 4\u001b[0m         response \u001b[38;5;241m=\u001b[39m \u001b[43mapi\u001b[49m\u001b[38;5;241;43m.\u001b[39;49m\u001b[43msend_message\u001b[49m\u001b[43m(\u001b[49m\u001b[43mquery\u001b[49m\u001b[43m)\u001b[49m\n\u001b[1;32m      5\u001b[0m         \u001b[38;5;28mprint\u001b[39m(\u001b[38;5;124m\"\u001b[39m\u001b[38;5;124m=\u001b[39m\u001b[38;5;124m\"\u001b[39m \u001b[38;5;241m*\u001b[39m \u001b[38;5;241m20\u001b[39m)\n\u001b[1;32m      6\u001b[0m         \u001b[38;5;28mprint\u001b[39m(response)\n",
      "File \u001b[0;32m/opt/miniconda3/envs/gpt/lib/python3.9/site-packages/pyChatGPT/pyChatGPT.py:431\u001b[0m, in \u001b[0;36mChatGPT.send_message\u001b[0;34m(self, message, stream)\u001b[0m\n\u001b[1;32m    428\u001b[0m     \u001b[38;5;28;01mreturn\u001b[39;00m \u001b[38;5;28mprint\u001b[39m()\n\u001b[1;32m    430\u001b[0m \u001b[38;5;28mself\u001b[39m\u001b[38;5;241m.\u001b[39mlogger\u001b[38;5;241m.\u001b[39mdebug(\u001b[38;5;124m'\u001b[39m\u001b[38;5;124mWaiting for completion...\u001b[39m\u001b[38;5;124m'\u001b[39m)\n\u001b[0;32m--> 431\u001b[0m \u001b[43mWebDriverWait\u001b[49m\u001b[43m(\u001b[49m\u001b[38;5;28;43mself\u001b[39;49m\u001b[38;5;241;43m.\u001b[39;49m\u001b[43mdriver\u001b[49m\u001b[43m,\u001b[49m\u001b[43m \u001b[49m\u001b[38;5;241;43m120\u001b[39;49m\u001b[43m)\u001b[49m\u001b[38;5;241;43m.\u001b[39;49m\u001b[43muntil_not\u001b[49m\u001b[43m(\u001b[49m\n\u001b[1;32m    432\u001b[0m \u001b[43m    \u001b[49m\u001b[43mEC\u001b[49m\u001b[38;5;241;43m.\u001b[39;49m\u001b[43mpresence_of_element_located\u001b[49m\u001b[43m(\u001b[49m\u001b[43mchatgpt_streaming\u001b[49m\u001b[43m)\u001b[49m\n\u001b[1;32m    433\u001b[0m \u001b[43m\u001b[49m\u001b[43m)\u001b[49m\n\u001b[1;32m    435\u001b[0m \u001b[38;5;28mself\u001b[39m\u001b[38;5;241m.\u001b[39mlogger\u001b[38;5;241m.\u001b[39mdebug(\u001b[38;5;124m'\u001b[39m\u001b[38;5;124mGetting response...\u001b[39m\u001b[38;5;124m'\u001b[39m)\n\u001b[1;32m    436\u001b[0m responses \u001b[38;5;241m=\u001b[39m \u001b[38;5;28mself\u001b[39m\u001b[38;5;241m.\u001b[39mdriver\u001b[38;5;241m.\u001b[39mfind_elements(\u001b[38;5;241m*\u001b[39mchatgpt_big_response)\n",
      "File \u001b[0;32m/opt/miniconda3/envs/gpt/lib/python3.9/site-packages/selenium/webdriver/support/wait.py:110\u001b[0m, in \u001b[0;36mWebDriverWait.until_not\u001b[0;34m(self, method, message)\u001b[0m\n\u001b[1;32m    108\u001b[0m \u001b[38;5;28;01mwhile\u001b[39;00m \u001b[38;5;28;01mTrue\u001b[39;00m:\n\u001b[1;32m    109\u001b[0m     \u001b[38;5;28;01mtry\u001b[39;00m:\n\u001b[0;32m--> 110\u001b[0m         value \u001b[38;5;241m=\u001b[39m \u001b[43mmethod\u001b[49m\u001b[43m(\u001b[49m\u001b[38;5;28;43mself\u001b[39;49m\u001b[38;5;241;43m.\u001b[39;49m\u001b[43m_driver\u001b[49m\u001b[43m)\u001b[49m\n\u001b[1;32m    111\u001b[0m         \u001b[38;5;28;01mif\u001b[39;00m \u001b[38;5;129;01mnot\u001b[39;00m value:\n\u001b[1;32m    112\u001b[0m             \u001b[38;5;28;01mreturn\u001b[39;00m value\n",
      "File \u001b[0;32m/opt/miniconda3/envs/gpt/lib/python3.9/site-packages/selenium/webdriver/support/expected_conditions.py:64\u001b[0m, in \u001b[0;36mpresence_of_element_located.<locals>._predicate\u001b[0;34m(driver)\u001b[0m\n\u001b[1;32m     63\u001b[0m \u001b[38;5;28;01mdef\u001b[39;00m \u001b[38;5;21m_predicate\u001b[39m(driver):\n\u001b[0;32m---> 64\u001b[0m     \u001b[38;5;28;01mreturn\u001b[39;00m \u001b[43mdriver\u001b[49m\u001b[38;5;241;43m.\u001b[39;49m\u001b[43mfind_element\u001b[49m\u001b[43m(\u001b[49m\u001b[38;5;241;43m*\u001b[39;49m\u001b[43mlocator\u001b[49m\u001b[43m)\u001b[49m\n",
      "File \u001b[0;32m/opt/miniconda3/envs/gpt/lib/python3.9/site-packages/selenium/webdriver/remote/webdriver.py:861\u001b[0m, in \u001b[0;36mWebDriver.find_element\u001b[0;34m(self, by, value)\u001b[0m\n\u001b[1;32m    858\u001b[0m     by \u001b[38;5;241m=\u001b[39m By\u001b[38;5;241m.\u001b[39mCSS_SELECTOR\n\u001b[1;32m    859\u001b[0m     value \u001b[38;5;241m=\u001b[39m \u001b[38;5;124m'\u001b[39m\u001b[38;5;124m[name=\u001b[39m\u001b[38;5;124m\"\u001b[39m\u001b[38;5;132;01m%s\u001b[39;00m\u001b[38;5;124m\"\u001b[39m\u001b[38;5;124m]\u001b[39m\u001b[38;5;124m'\u001b[39m \u001b[38;5;241m%\u001b[39m value\n\u001b[0;32m--> 861\u001b[0m \u001b[38;5;28;01mreturn\u001b[39;00m \u001b[38;5;28;43mself\u001b[39;49m\u001b[38;5;241;43m.\u001b[39;49m\u001b[43mexecute\u001b[49m\u001b[43m(\u001b[49m\u001b[43mCommand\u001b[49m\u001b[38;5;241;43m.\u001b[39;49m\u001b[43mFIND_ELEMENT\u001b[49m\u001b[43m,\u001b[49m\u001b[43m \u001b[49m\u001b[43m{\u001b[49m\u001b[38;5;124;43m\"\u001b[39;49m\u001b[38;5;124;43musing\u001b[39;49m\u001b[38;5;124;43m\"\u001b[39;49m\u001b[43m:\u001b[49m\u001b[43m \u001b[49m\u001b[43mby\u001b[49m\u001b[43m,\u001b[49m\u001b[43m \u001b[49m\u001b[38;5;124;43m\"\u001b[39;49m\u001b[38;5;124;43mvalue\u001b[39;49m\u001b[38;5;124;43m\"\u001b[39;49m\u001b[43m:\u001b[49m\u001b[43m \u001b[49m\u001b[43mvalue\u001b[49m\u001b[43m}\u001b[49m\u001b[43m)\u001b[49m[\u001b[38;5;124m\"\u001b[39m\u001b[38;5;124mvalue\u001b[39m\u001b[38;5;124m\"\u001b[39m]\n",
      "File \u001b[0;32m/opt/miniconda3/envs/gpt/lib/python3.9/site-packages/selenium/webdriver/remote/webdriver.py:444\u001b[0m, in \u001b[0;36mWebDriver.execute\u001b[0;34m(self, driver_command, params)\u001b[0m\n\u001b[1;32m    442\u001b[0m response \u001b[38;5;241m=\u001b[39m \u001b[38;5;28mself\u001b[39m\u001b[38;5;241m.\u001b[39mcommand_executor\u001b[38;5;241m.\u001b[39mexecute(driver_command, params)\n\u001b[1;32m    443\u001b[0m \u001b[38;5;28;01mif\u001b[39;00m response:\n\u001b[0;32m--> 444\u001b[0m     \u001b[38;5;28;43mself\u001b[39;49m\u001b[38;5;241;43m.\u001b[39;49m\u001b[43merror_handler\u001b[49m\u001b[38;5;241;43m.\u001b[39;49m\u001b[43mcheck_response\u001b[49m\u001b[43m(\u001b[49m\u001b[43mresponse\u001b[49m\u001b[43m)\u001b[49m\n\u001b[1;32m    445\u001b[0m     response[\u001b[38;5;124m\"\u001b[39m\u001b[38;5;124mvalue\u001b[39m\u001b[38;5;124m\"\u001b[39m] \u001b[38;5;241m=\u001b[39m \u001b[38;5;28mself\u001b[39m\u001b[38;5;241m.\u001b[39m_unwrap_value(response\u001b[38;5;241m.\u001b[39mget(\u001b[38;5;124m\"\u001b[39m\u001b[38;5;124mvalue\u001b[39m\u001b[38;5;124m\"\u001b[39m, \u001b[38;5;28;01mNone\u001b[39;00m))\n\u001b[1;32m    446\u001b[0m     \u001b[38;5;28;01mreturn\u001b[39;00m response\n",
      "File \u001b[0;32m/opt/miniconda3/envs/gpt/lib/python3.9/site-packages/selenium/webdriver/remote/errorhandler.py:249\u001b[0m, in \u001b[0;36mErrorHandler.check_response\u001b[0;34m(self, response)\u001b[0m\n\u001b[1;32m    247\u001b[0m         alert_text \u001b[38;5;241m=\u001b[39m value[\u001b[38;5;124m\"\u001b[39m\u001b[38;5;124malert\u001b[39m\u001b[38;5;124m\"\u001b[39m]\u001b[38;5;241m.\u001b[39mget(\u001b[38;5;124m\"\u001b[39m\u001b[38;5;124mtext\u001b[39m\u001b[38;5;124m\"\u001b[39m)\n\u001b[1;32m    248\u001b[0m     \u001b[38;5;28;01mraise\u001b[39;00m exception_class(message, screen, stacktrace, alert_text)  \u001b[38;5;66;03m# type: ignore[call-arg]  # mypy is not smart enough here\u001b[39;00m\n\u001b[0;32m--> 249\u001b[0m \u001b[38;5;28;01mraise\u001b[39;00m exception_class(message, screen, stacktrace)\n",
      "\u001b[0;31mTimeoutException\u001b[0m: Message: timeout: Timed out receiving message from renderer: 300.000\n  (Session info: chrome=109.0.5414.87)\nStacktrace:\n0   6b2bc0cb62e5a283_chromedriver       0x0000000102b34fa8 6b2bc0cb62e5a283_chromedriver + 4886440\n1   6b2bc0cb62e5a283_chromedriver       0x0000000102ab2643 6b2bc0cb62e5a283_chromedriver + 4351555\n2   6b2bc0cb62e5a283_chromedriver       0x0000000102700b27 6b2bc0cb62e5a283_chromedriver + 477991\n3   6b2bc0cb62e5a283_chromedriver       0x00000001026e924d 6b2bc0cb62e5a283_chromedriver + 381517\n4   6b2bc0cb62e5a283_chromedriver       0x00000001026e8de0 6b2bc0cb62e5a283_chromedriver + 380384\n5   6b2bc0cb62e5a283_chromedriver       0x00000001026e7532 6b2bc0cb62e5a283_chromedriver + 374066\n6   6b2bc0cb62e5a283_chromedriver       0x00000001026e7a58 6b2bc0cb62e5a283_chromedriver + 375384\n7   6b2bc0cb62e5a283_chromedriver       0x00000001026f684c 6b2bc0cb62e5a283_chromedriver + 436300\n8   6b2bc0cb62e5a283_chromedriver       0x00000001026f7b52 6b2bc0cb62e5a283_chromedriver + 441170\n9   6b2bc0cb62e5a283_chromedriver       0x000000010270a009 6b2bc0cb62e5a283_chromedriver + 516105\n10  6b2bc0cb62e5a283_chromedriver       0x000000010270f8db 6b2bc0cb62e5a283_chromedriver + 538843\n11  6b2bc0cb62e5a283_chromedriver       0x00000001026e7f64 6b2bc0cb62e5a283_chromedriver + 376676\n12  6b2bc0cb62e5a283_chromedriver       0x0000000102709e30 6b2bc0cb62e5a283_chromedriver + 515632\n13  6b2bc0cb62e5a283_chromedriver       0x000000010278653b 6b2bc0cb62e5a283_chromedriver + 1025339\n14  6b2bc0cb62e5a283_chromedriver       0x000000010276b3a3 6b2bc0cb62e5a283_chromedriver + 914339\n15  6b2bc0cb62e5a283_chromedriver       0x000000010273557f 6b2bc0cb62e5a283_chromedriver + 693631\n16  6b2bc0cb62e5a283_chromedriver       0x0000000102736b1e 6b2bc0cb62e5a283_chromedriver + 699166\n17  6b2bc0cb62e5a283_chromedriver       0x0000000102b01b9e 6b2bc0cb62e5a283_chromedriver + 4676510\n18  6b2bc0cb62e5a283_chromedriver       0x0000000102b0691e 6b2bc0cb62e5a283_chromedriver + 4696350\n19  6b2bc0cb62e5a283_chromedriver       0x0000000102b0e19f 6b2bc0cb62e5a283_chromedriver + 4727199\n20  6b2bc0cb62e5a283_chromedriver       0x0000000102b0781a 6b2bc0cb62e5a283_chromedriver + 4700186\n21  6b2bc0cb62e5a283_chromedriver       0x0000000102adaa62 6b2bc0cb62e5a283_chromedriver + 4516450\n22  6b2bc0cb62e5a283_chromedriver       0x0000000102b268c8 6b2bc0cb62e5a283_chromedriver + 4827336\n23  6b2bc0cb62e5a283_chromedriver       0x0000000102b26a45 6b2bc0cb62e5a283_chromedriver + 4827717\n24  6b2bc0cb62e5a283_chromedriver       0x0000000102b3c7ef 6b2bc0cb62e5a283_chromedriver + 4917231\n25  libsystem_pthread.dylib             0x00007ff81c3dd259 _pthread_start + 125\n26  libsystem_pthread.dylib             0x00007ff81c3d8c7b thread_start + 15\n"
     ]
    }
   ],
   "source": [
    "output_arr = []\n",
    "for index, query in enumerate(data_col[:5]):\n",
    "    try:\n",
    "        response = api.send_message(query)\n",
    "        print(\"=\" * 20)\n",
    "        print(response)\n",
    "        print(\"=\" * 20)\n",
    "\n",
    "        if response[\"message\"] != \"\":\n",
    "            fields = [index, query, response[\"message\"]]\n",
    "            output_arr.append(fields)\n",
    "        else:\n",
    "            print(f\"Stopped at: {index}\")\n",
    "\n",
    "#         with open(\"./start\", \"w\") as f:\n",
    "#             f.write(str(index))\n",
    "#         f.close()\n",
    "    except ValueError as ve:\n",
    "        print(ve)\n",
    "        if str(ve) == \"Too many requests in 1 hour. Try again later.\":\n",
    "            print(str(ve))\n",
    "        if (\n",
    "            str(ve)\n",
    "            == \"Only one message at a time. Please allow any other responses to complete before sending another message, or wait one minute.\"\n",
    "        ):\n",
    "            print(str(ve))\n",
    "            time.sleep(60)"
   ]
  },
  {
   "cell_type": "code",
   "execution_count": null,
   "id": "5eed2b2f",
   "metadata": {},
   "outputs": [],
   "source": [
    "output_arr"
   ]
  },
  {
   "cell_type": "code",
   "execution_count": null,
   "id": "88f8b71c",
   "metadata": {},
   "outputs": [],
   "source": [
    "\n",
    "with open(f\"./output_raw/DialFact_{int(start)}.csv\", \"a\") as fp:\n",
    "    writer = csv.writer(fp)\n",
    "    for index, row in tqdm(df.iterrows(), total=df.shape[0]):\n",
    "        query = row[\"query\"]\n",
    "\n",
    "        print(\"*\" * 20)\n",
    "        print(query)\n",
    "        print(\"*\" * 20)\n",
    "\n",
    "        try:\n",
    "            response = api.send_message(query)\n",
    "            print(\"=\" * 20)\n",
    "            print(response)\n",
    "            print(\"=\" * 20)\n",
    "\n",
    "            if response[\"message\"] != \"\":\n",
    "                fields = [index, query, response[\"message\"]]\n",
    "                writer.writerow(fields)\n",
    "            else:\n",
    "                print(f\"Stopped at: {index}\")\n",
    "\n",
    "            with open(\"./start\", \"w\") as f:\n",
    "                f.write(str(index))\n",
    "            f.close()\n",
    "        except ValueError as ve:\n",
    "            print(ve)\n",
    "            if str(ve) == \"Too many requests in 1 hour. Try again later.\":\n",
    "                print(str(ve))\n",
    "                f = open(\"change_token\", \"w\")\n",
    "                f.write(\"True\")\n",
    "                f.close()\n",
    "            if (\n",
    "                str(ve)\n",
    "                == \"Only one message at a time. Please allow any other responses to complete before sending another message, or wait one minute.\"\n",
    "            ):\n",
    "                print(str(ve))\n",
    "                time.sleep(60)\n",
    "\n",
    "fp.close()\n",
    "\n",
    "api.reset_conversation()  # reset the conversation\n",
    "api.clear_conversations()  # clear all conversations\n",
    "api.refresh_chat_page()  # refresh the chat page\n"
   ]
  },
  {
   "cell_type": "code",
   "execution_count": null,
   "id": "4c13fbde",
   "metadata": {},
   "outputs": [],
   "source": [
    "result_list = []\n",
    "for i in range(df.shape[0]):\n",
    "    result_list.append({\n",
    "        \"input\": input[i],\n",
    "        \"output\": output[i]\n",
    "    })\n",
    "\n",
    "out = defaultdict(lambda: defaultdict(lambda: {}))\n",
    "out = {\n",
    "    \"author\": \"IIT\",\n",
    "    \"dataset\": DATASET,\n",
    "    \"part\": part,\n",
    "    \"created\": TIMESTAMP,\n",
    "    \"result\": result_list\n",
    "}\n",
    "\n",
    "with open(f\"./processed/DialFact_{part}.json\", \"w\") as fp:\n",
    "    json.dump(out, fp)"
   ]
  }
 ],
 "metadata": {
  "kernelspec": {
   "display_name": "Python 3 (ipykernel)",
   "language": "python",
   "name": "python3"
  },
  "language_info": {
   "codemirror_mode": {
    "name": "ipython",
    "version": 3
   },
   "file_extension": ".py",
   "mimetype": "text/x-python",
   "name": "python",
   "nbconvert_exporter": "python",
   "pygments_lexer": "ipython3",
   "version": "3.9.15"
  }
 },
 "nbformat": 4,
 "nbformat_minor": 5
}
