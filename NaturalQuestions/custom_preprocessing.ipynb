{
 "cells": [
  {
   "cell_type": "code",
   "execution_count": 1,
   "id": "4fae3dd4",
   "metadata": {},
   "outputs": [],
   "source": [
    "from pyChatGPT import ChatGPT\n",
    "import json\n",
    "from tqdm import tqdm\n",
    "import pandas as pd\n",
    "from collections import defaultdict\n",
    "import time\n",
    "from datetime import datetime\n",
    "import numpy as np\n",
    "from math import ceil\n",
    "import pickle\n",
    "import argparse\n",
    "import os, re, json\n",
    "from dotenv import load_dotenv"
   ]
  },
  {
   "cell_type": "code",
   "execution_count": 2,
   "id": "96944a0e",
   "metadata": {},
   "outputs": [
    {
     "data": {
      "text/plain": [
       "'/Users/UmarJahangir/Projects/ChatGPT/NaturalQuestions'"
      ]
     },
     "execution_count": 2,
     "metadata": {},
     "output_type": "execute_result"
    }
   ],
   "source": [
    "os.getcwd()"
   ]
  },
  {
   "cell_type": "code",
   "execution_count": 3,
   "id": "e173c43f",
   "metadata": {},
   "outputs": [
    {
     "data": {
      "text/plain": [
       "['NQ-open.train.jsonl', 'responses.json']"
      ]
     },
     "execution_count": 3,
     "metadata": {},
     "output_type": "execute_result"
    }
   ],
   "source": [
    "path = \"dataset\"\n",
    "files = os.listdir(path)\n",
    "files"
   ]
  },
  {
   "cell_type": "code",
   "execution_count": 9,
   "id": "92475199",
   "metadata": {},
   "outputs": [
    {
     "data": {
      "text/plain": [
       "['NQ-open.train.jsonl']"
      ]
     },
     "execution_count": 9,
     "metadata": {},
     "output_type": "execute_result"
    }
   ],
   "source": [
    "json_files = [pos_json for pos_json in files if pos_json.endswith('.jsonl')]\n",
    "json_files"
   ]
  },
  {
   "cell_type": "code",
   "execution_count": 24,
   "id": "f7ec7d9a",
   "metadata": {},
   "outputs": [],
   "source": [
    "def extract_input(file):\n",
    "    data = []\n",
    "    with open(file,'r',encoding='utf-8') as f:\n",
    "        for line in f:\n",
    "            record = json.loads(line)\n",
    "            record[\"answer\"] = \"None\"\n",
    "            if record is not None:\n",
    "                data.append(record)\n",
    "\n",
    "    return data"
   ]
  },
  {
   "cell_type": "code",
   "execution_count": 25,
   "id": "98e011c7",
   "metadata": {},
   "outputs": [
    {
     "data": {
      "text/plain": [
       "'NQ-open.train.jsonl'"
      ]
     },
     "execution_count": 25,
     "metadata": {},
     "output_type": "execute_result"
    }
   ],
   "source": [
    "json_files[0]"
   ]
  },
  {
   "cell_type": "code",
   "execution_count": 26,
   "id": "70e2f434",
   "metadata": {},
   "outputs": [
    {
     "data": {
      "text/plain": [
       "87925"
      ]
     },
     "execution_count": 26,
     "metadata": {},
     "output_type": "execute_result"
    }
   ],
   "source": [
    "# Extract from all jsonl files\n",
    "\n",
    "data_col = []\n",
    "for file in json_files:\n",
    "    data = extract_input(f\"{path}/{file}\")\n",
    "    if len(data_col) == 0:\n",
    "        data_col = [*data]\n",
    "    else:\n",
    "        [*data_col, *data]\n",
    "\n",
    "len(data_col)"
   ]
  },
  {
   "cell_type": "code",
   "execution_count": 72,
   "id": "d132a09b",
   "metadata": {},
   "outputs": [
    {
     "data": {
      "text/plain": [
       "{'answer': 'None', 'question': 'where did they film hot tub time machine'}"
      ]
     },
     "execution_count": 72,
     "metadata": {},
     "output_type": "execute_result"
    }
   ],
   "source": [
    "data_col[0]"
   ]
  },
  {
   "cell_type": "code",
   "execution_count": 73,
   "id": "97186b4e",
   "metadata": {},
   "outputs": [],
   "source": [
    "responses_raw_path = f'{path}/responsesRaw.json'\n",
    "with open(responses_raw_path, 'w+') as f:\n",
    "    json.dump(data_col, f)"
   ]
  },
  {
   "cell_type": "code",
   "execution_count": 74,
   "id": "6cb71def",
   "metadata": {
    "scrolled": false
   },
   "outputs": [
    {
     "data": {
      "text/plain": [
       "['NQ-open.train.jsonl', 'responses.json']"
      ]
     },
     "execution_count": 74,
     "metadata": {},
     "output_type": "execute_result"
    }
   ],
   "source": [
    "os.listdir(path)"
   ]
  },
  {
   "cell_type": "code",
   "execution_count": 88,
   "id": "6ba32508",
   "metadata": {},
   "outputs": [
    {
     "data": {
      "text/plain": [
       "{'answer': 'None', 'question': 'where did they film hot tub time machine'}"
      ]
     },
     "execution_count": 88,
     "metadata": {},
     "output_type": "execute_result"
    }
   ],
   "source": [
    "responses[0]"
   ]
  }
 ],
 "metadata": {
  "kernelspec": {
   "display_name": "Python 3 (ipykernel)",
   "language": "python",
   "name": "python3"
  },
  "language_info": {
   "codemirror_mode": {
    "name": "ipython",
    "version": 3
   },
   "file_extension": ".py",
   "mimetype": "text/x-python",
   "name": "python",
   "nbconvert_exporter": "python",
   "pygments_lexer": "ipython3",
   "version": "3.9.15"
  }
 },
 "nbformat": 4,
 "nbformat_minor": 5
}
